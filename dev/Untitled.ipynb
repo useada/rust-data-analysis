{
 "cells": [
  {
   "cell_type": "code",
   "execution_count": 3,
   "id": "250f6735-e5e6-4312-940e-613807f8a6c0",
   "metadata": {},
   "outputs": [],
   "source": [
    ":dep chrono = { version = \"0.4.31\"}"
   ]
  },
  {
   "cell_type": "code",
   "execution_count": 23,
   "id": "9882a788-81f0-4427-8e9c-d2f8fe532ad7",
   "metadata": {},
   "outputs": [],
   "source": [
    ":dep polars = { version = \"0.35.0\", features = [\"describe\", \"lazy\", \"ndarray\", \"object\", \"dtype-struct\", \"concat_str\", \"mode\", \"rows\"] }"
   ]
  },
  {
   "cell_type": "code",
   "execution_count": 5,
   "id": "8461651e-934a-4871-b8a3-285ff4d13771",
   "metadata": {},
   "outputs": [],
   "source": [
    "use polars::datatypes::DataType;\n",
    "use polars::prelude::*;\n",
    "use chrono::{DateTime, NaiveDateTime, TimeZone, Utc};\n",
    "use std::sync::Arc;"
   ]
  },
  {
   "cell_type": "code",
   "execution_count": 6,
   "id": "302683d4-dfa3-4579-a771-392b3964e3b8",
   "metadata": {},
   "outputs": [
    {
     "data": {
      "text/plain": [
       "shape: (3,)\n",
       "Series: '' [i32]\n",
       "[\n",
       "\t1\n",
       "\t2\n",
       "\t3\n",
       "]"
      ]
     },
     "execution_count": 6,
     "metadata": {},
     "output_type": "execute_result"
    }
   ],
   "source": [
    "let series1: Series = [1, 2, 3].iter().collect();\n",
    "// or\n",
    "// let series1: Series = Series::new(\"\", &[1, 2, 3]);\n",
    "series1"
   ]
  },
  {
   "cell_type": "code",
   "execution_count": 7,
   "id": "f10ed2e5-a788-4874-8cba-11883087c4b7",
   "metadata": {},
   "outputs": [
    {
     "name": "stdout",
     "output_type": "stream",
     "text": [
      "shape: (3, 4)\n",
      "┌─────────┬─────────────────────┬───────┬────────┐\n",
      "│ integer ┆ date                ┆ float ┆ string │\n",
      "│ ---     ┆ ---                 ┆ ---   ┆ ---    │\n",
      "│ i32     ┆ datetime[ms]        ┆ f64   ┆ str    │\n",
      "╞═════════╪═════════════════════╪═══════╪════════╡\n",
      "│ 1       ┆ 2025-01-01 00:00:00 ┆ 4.0   ┆ a      │\n",
      "│ 2       ┆ 2025-01-02 00:00:00 ┆ 5.0   ┆ b      │\n",
      "│ 3       ┆ 2025-01-03 00:00:00 ┆ 6.0   ┆ c      │\n",
      "└─────────┴─────────────────────┴───────┴────────┘\n"
     ]
    }
   ],
   "source": [
    "use std::fs::File;\n",
    "\n",
    "use chrono::prelude::*;\n",
    "use polars::prelude::*;\n",
    "\n",
    "let mut df: DataFrame = df!(\n",
    "    \"integer\" => &[1, 2, 3],\n",
    "    \"date\" => &[\n",
    "            NaiveDate::from_ymd_opt(2025, 1, 1).unwrap().and_hms_opt(0, 0, 0).unwrap(),\n",
    "            NaiveDate::from_ymd_opt(2025, 1, 2).unwrap().and_hms_opt(0, 0, 0).unwrap(),\n",
    "            NaiveDate::from_ymd_opt(2025, 1, 3).unwrap().and_hms_opt(0, 0, 0).unwrap(),\n",
    "    ],\n",
    "    \"float\" => &[4.0, 5.0, 6.0],\n",
    "    \"string\" => &[\"a\", \"b\", \"c\"],\n",
    ")\n",
    ".unwrap();\n",
    "println!(\"{}\", df);"
   ]
  },
  {
   "cell_type": "code",
   "execution_count": 8,
   "id": "26fe95ac-735e-4262-9c3e-10259e63286d",
   "metadata": {},
   "outputs": [
    {
     "data": {
      "text/plain": [
       "shape: (4,)\n",
       "Series: 'seasons' [str]\n",
       "[\n",
       "\t\"Winter\"\n",
       "\t\"Spring\"\n",
       "\t\"Summer\"\n",
       "\t\"Fall\"\n",
       "]"
      ]
     },
     "execution_count": 8,
     "metadata": {},
     "output_type": "execute_result"
    }
   ],
   "source": [
    "let seasons_ser: Series = Series::new(\"seasons\", &[\"Winter\", \"Spring\", \"Summer\", \"Fall\"]);\n",
    "seasons_ser"
   ]
  },
  {
   "cell_type": "code",
   "execution_count": 10,
   "id": "79def680-6132-4745-8220-c87b3cb360ab",
   "metadata": {},
   "outputs": [
    {
     "data": {
      "text/plain": [
       "shape: (3,)\n",
       "Series: 'numbers' [i64]\n",
       "[\n",
       "\tnull\n",
       "\t1\n",
       "\t2\n",
       "]"
      ]
     },
     "execution_count": 10,
     "metadata": {},
     "output_type": "execute_result"
    }
   ],
   "source": [
    "let s: Series = Series::new(\"numbers\", &[Some(f64::NAN), Some(1.), Some(2.)]);\n",
    "s.cast(&DataType::Int64).unwrap()"
   ]
  },
  {
   "cell_type": "code",
   "execution_count": 11,
   "id": "d9f1c33a-cd9b-4f65-8964-0feba66c232b",
   "metadata": {},
   "outputs": [
    {
     "data": {
      "text/plain": [
       "shape: (1,)\n",
       "Series: 'b' [date]\n",
       "[\n",
       "\t2020-01-01\n",
       "]"
      ]
     },
     "execution_count": 11,
     "metadata": {},
     "output_type": "execute_result"
    }
   ],
   "source": [
    "let date: DateTime<Utc> = Utc.with_ymd_and_hms(2020, 1, 1, 0, 0, 0).unwrap();\n",
    "let s = Series::new(\"b\", &[date.date_naive()]);\n",
    "s"
   ]
  },
  {
   "cell_type": "code",
   "execution_count": 12,
   "id": "dc2582b4-8d60-49eb-9734-3012116cdca7",
   "metadata": {},
   "outputs": [
    {
     "data": {
      "text/plain": [
       "2020-01-01T00:00:00Z"
      ]
     },
     "execution_count": 12,
     "metadata": {},
     "output_type": "execute_result"
    }
   ],
   "source": [
    "date"
   ]
  },
  {
   "cell_type": "code",
   "execution_count": 14,
   "id": "64f8a5bf-5e59-4f24-8443-09de276e1643",
   "metadata": {},
   "outputs": [],
   "source": [
    "let x = Utc.with_ymd_and_hms(2020, 1, 1, 0, 0, 0);"
   ]
  },
  {
   "cell_type": "code",
   "execution_count": 15,
   "id": "3403040b-ec16-4a40-8a63-ce3d7bb48a00",
   "metadata": {},
   "outputs": [
    {
     "data": {
      "text/plain": [
       "Single(2020-01-01T00:00:00Z)"
      ]
     },
     "execution_count": 15,
     "metadata": {},
     "output_type": "execute_result"
    }
   ],
   "source": [
    "x"
   ]
  },
  {
   "cell_type": "code",
   "execution_count": 16,
   "id": "14008996-1923-448c-a73b-92154db8b0c4",
   "metadata": {},
   "outputs": [],
   "source": [
    "let s: Series = [1, 2, 3].iter().collect();\n",
    "let s_squared: Series = s.i32()\n",
    "     .expect(\"datatype mismatch\")\n",
    "     .into_iter()\n",
    "     .map(|optional_v| {\n",
    "         match optional_v {\n",
    "             Some(v) => Some(v * v),\n",
    "             None => None, // null value\n",
    "         }\n",
    " }).collect();"
   ]
  },
  {
   "cell_type": "code",
   "execution_count": 18,
   "id": "f5f223a5-654c-469c-9ca2-bf6425569fcf",
   "metadata": {},
   "outputs": [
    {
     "data": {
      "text/plain": [
       "shape: (3,)\n",
       "Series: '' [i32]\n",
       "[\n",
       "\t1\n",
       "\t4\n",
       "\t9\n",
       "]"
      ]
     },
     "execution_count": 18,
     "metadata": {},
     "output_type": "execute_result"
    }
   ],
   "source": [
    "s_squared"
   ]
  },
  {
   "cell_type": "code",
   "execution_count": 19,
   "id": "bb655446-3bba-4153-8dd8-4b06a521e4ab",
   "metadata": {},
   "outputs": [
    {
     "name": "stdout",
     "output_type": "stream",
     "text": [
      "shape: (3,)\n",
      "Series: 'A' [i32]\n",
      "[\n",
      "\t1\n",
      "\t2\n",
      "\t3\n",
      "]\n",
      "shape: (3,)\n",
      "Series: 'B' [i32]\n",
      "[\n",
      "\t4\n",
      "\t5\n",
      "\t6\n",
      "]\n"
     ]
    },
    {
     "data": {
      "text/plain": [
       "()"
      ]
     },
     "execution_count": 19,
     "metadata": {},
     "output_type": "execute_result"
    }
   ],
   "source": [
    "use polars::prelude::*;\n",
    "\n",
    "\n",
    "    // Create a DataFrame\n",
    "    let df: DataFrame = DataFrame::new(vec![\n",
    "        Series::new(\"A\", vec![1, 2, 3]),\n",
    "        Series::new(\"B\", vec![4, 5, 6]),\n",
    "    ]).unwrap();\n",
    "\n",
    "    // Iterate over the DataFrame rows\n",
    "    for row in df.iter() {\n",
    "        println!(\"{:?}\", row);\n",
    "    }\n"
   ]
  },
  {
   "cell_type": "code",
   "execution_count": 26,
   "id": "e1761ba0-20ca-4893-b865-e5a88821f2ab",
   "metadata": {},
   "outputs": [],
   "source": [
    "use polars::prelude::*;\n",
    "\n",
    "fn main() {\n",
    "\n",
    "    let col1 = Series::new(\"col1\", vec![1, 2, 3, 4, 5]);\n",
    "    let col2 = Series::new(\"col2\", vec![5, 4, 3, 2, 1]);\n",
    "    let col3 = Series::new(\"col3\", vec![1, 2, 3, 4, 5]);\n",
    "    let mut df = DataFrame::new(vec![col1, col2, col3]).unwrap();\n",
    "\n",
    "    let mut signal = vec![0; df.height()];\n",
    "    \n",
    "    // Iterate over DataFrame and update signal\n",
    "    for i in 0..df.height() {\n",
    "        if df.column(\"col1\").unwrap().get(i).unwrap() == AnyValue::Int32(3) \n",
    "            && df.column(\"col2\").unwrap().get(i).unwrap() == AnyValue::Int32(3)\n",
    "            && df.column(\"col3\").unwrap().get(i).unwrap() == AnyValue::Int32(3) \n",
    "        {\n",
    "            signal[i] = 1;\n",
    "        }\n",
    "    }\n",
    "    \n",
    "    // Add new column to DataFrame\n",
    "    let new_col = Series::new(\"signal\", signal.clone());\n",
    "    \n",
    "    let df = df.with_column(new_col).unwrap();\n",
    "    println!(\"after: {:?}\", df);\n",
    "}"
   ]
  },
  {
   "cell_type": "code",
   "execution_count": 27,
   "id": "7a62a304-88a9-4d43-aff6-bbfc71d4466e",
   "metadata": {},
   "outputs": [
    {
     "name": "stdout",
     "output_type": "stream",
     "text": [
      "after: shape: (5, 4)\n",
      "┌──────┬──────┬──────┬────────┐\n",
      "│ col1 ┆ col2 ┆ col3 ┆ signal │\n",
      "│ ---  ┆ ---  ┆ ---  ┆ ---    │\n",
      "│ i32  ┆ i32  ┆ i32  ┆ i32    │\n",
      "╞══════╪══════╪══════╪════════╡\n",
      "│ 1    ┆ 5    ┆ 1    ┆ 0      │\n",
      "│ 2    ┆ 4    ┆ 2    ┆ 0      │\n",
      "│ 3    ┆ 3    ┆ 3    ┆ 1      │\n",
      "│ 4    ┆ 2    ┆ 4    ┆ 0      │\n",
      "│ 5    ┆ 1    ┆ 5    ┆ 0      │\n",
      "└──────┴──────┴──────┴────────┘\n"
     ]
    },
    {
     "data": {
      "text/plain": [
       "()"
      ]
     },
     "execution_count": 27,
     "metadata": {},
     "output_type": "execute_result"
    }
   ],
   "source": [
    "main()"
   ]
  },
  {
   "cell_type": "code",
   "execution_count": 28,
   "id": "3bfb5e25-f9d6-4129-bd73-203fa860c6e6",
   "metadata": {},
   "outputs": [],
   "source": [
    "use polars::prelude::*;\n",
    "\n",
    "fn main2() {\n",
    "\n",
    "    let col1 = Series::new(\"col1\", vec![1, 2, 3, 4, 5]);\n",
    "    let col2 = Series::new(\"col2\", vec![5, 4, 3, 2, 1]);\n",
    "    let col3 = Series::new(\"col3\", vec![1, 2, 3, 4, 5]);\n",
    "    let mut df = DataFrame::new(vec![col1, col2, col3]).unwrap();\n",
    "\n",
    "    let expr = (col(\"col1\").eq(3))\n",
    "        .and(col(\"col2\").eq(3))\n",
    "        .and(col(\"col3\").eq(3));\n",
    "    println!(\n",
    "        \"{:?}\",\n",
    "        df.clone()\n",
    "            .lazy()\n",
    "            .select([\n",
    "                col(\"*\"),\n",
    "                expr.clone().alias(\"col1 == col2 == col3 == 3\"),\n",
    "                when(expr).then(1).otherwise(0).alias(\"signal\")\n",
    "            ])\n",
    "            .collect()\n",
    "            .unwrap()\n",
    "    );\n",
    "}"
   ]
  },
  {
   "cell_type": "code",
   "execution_count": 29,
   "id": "bf169238-2d54-4a2b-a4f9-062e71f0b6b3",
   "metadata": {},
   "outputs": [
    {
     "name": "stdout",
     "output_type": "stream",
     "text": [
      "shape: (5, 5)\n",
      "┌──────┬──────┬──────┬───────────────────────────┬────────┐\n",
      "│ col1 ┆ col2 ┆ col3 ┆ col1 == col2 == col3 == 3 ┆ signal │\n",
      "│ ---  ┆ ---  ┆ ---  ┆ ---                       ┆ ---    │\n",
      "│ i32  ┆ i32  ┆ i32  ┆ bool                      ┆ i32    │\n",
      "╞══════╪══════╪══════╪═══════════════════════════╪════════╡\n",
      "│ 1    ┆ 5    ┆ 1    ┆ false                     ┆ 0      │\n",
      "│ 2    ┆ 4    ┆ 2    ┆ false                     ┆ 0      │\n",
      "│ 3    ┆ 3    ┆ 3    ┆ true                      ┆ 1      │\n",
      "│ 4    ┆ 2    ┆ 4    ┆ false                     ┆ 0      │\n",
      "│ 5    ┆ 1    ┆ 5    ┆ false                     ┆ 0      │\n",
      "└──────┴──────┴──────┴───────────────────────────┴────────┘\n"
     ]
    },
    {
     "data": {
      "text/plain": [
       "()"
      ]
     },
     "execution_count": 29,
     "metadata": {},
     "output_type": "execute_result"
    }
   ],
   "source": [
    "main2()"
   ]
  },
  {
   "cell_type": "code",
   "execution_count": null,
   "id": "94e10f04-304f-400a-8294-56656b9a9257",
   "metadata": {},
   "outputs": [],
   "source": []
  }
 ],
 "metadata": {
  "kernelspec": {
   "display_name": "Rust",
   "language": "rust",
   "name": "rust"
  },
  "language_info": {
   "codemirror_mode": "rust",
   "file_extension": ".rs",
   "mimetype": "text/rust",
   "name": "Rust",
   "pygment_lexer": "rust",
   "version": ""
  }
 },
 "nbformat": 4,
 "nbformat_minor": 5
}
